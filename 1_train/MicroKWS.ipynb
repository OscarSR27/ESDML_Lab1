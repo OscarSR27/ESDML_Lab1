{
 "cells": [
  {
   "cell_type": "markdown",
   "id": "729ef4ca",
   "metadata": {},
   "source": [
    "# MicroKWS Training Flow"
   ]
  },
  {
   "cell_type": "markdown",
   "id": "2659464b",
   "metadata": {},
   "source": [
    "This notebook should give an introduction on the required procedure to design, train and quantize a small machine learning model using the Tensorflow Lite and the Keras API. The application example is a keyword-spotting (KWS) task which should ideally be suitable to run on an energy efficent device e.g. a small microcontroller platform (see next lab).\n",
    "\n",
    "In the following a step by step guide is provided. Please follow the notebooks contents sequentially by executiong one cell after each other while inspecting the used python code as well as the program outputs printed to the screen. From time to time theoretical tasks are going to be introduced. Please try to answer them **without changing the contents of the previous cells**. At the end of this document, there is a Programming Challenge which has to be solved alongside with the previous theoretical questions to pass this lab assignment. As this challenge involves some programming, it is recommended to duplicate this notebook before starting to play around with the code in the allowed cells.\n",
    "\n",
    "If you have never heard of *Jupyter Notebooks* before, please first have a look at the Setup section in the Lab Manual and check out https://docs.jupyter.org/en/latest/start/index.html for more information."
   ]
  },
  {
   "cell_type": "markdown",
   "id": "44b589f4",
   "metadata": {},
   "source": [
    "### Disclaimer\n",
    "\n",
    "This tutorial is inpired by the contents of: https://github.com/ARM-software/ML-examples/tree/main/tflu-kws-cortex-m/Training"
   ]
  },
  {
   "cell_type": "markdown",
   "id": "eb549695",
   "metadata": {},
   "source": [
    "## 0. Install software"
   ]
  },
  {
   "cell_type": "markdown",
   "id": "92d34d8b",
   "metadata": {},
   "source": [
    "The following steps should ideally done before launching this Jupyter notebook! (See `README.md`!)"
   ]
  },
  {
   "cell_type": "markdown",
   "id": "7a576794",
   "metadata": {},
   "source": [
    "**1. Clone repository**\n",
    "\n",
    "```\n",
    "git clone git@gitlab.lrz.de:de-tum-ei-eda-esl/ESD4ML/micro-kws.git\n",
    "```\n",
    "\n",
    "\n",
    "**2. Create virtual python environment**\n",
    "\n",
    "```\n",
    "virtualenv -p python3.8 venv\n",
    "```\n",
    "\n",
    "**3. Enter virtual python environment**\n",
    "\n",
    "```\n",
    "source venv/bin/activate\n",
    "```\n",
    "\n",
    "**4. Enter directory**\n",
    "\n",
    "```\n",
    "cd micro-kws/1_train\n",
    "```\n",
    "\n",
    "**5. Install python packages into environment**\n",
    "\n",
    "```\n",
    "pip install -r requirements.txt\n",
    "```\n",
    "\n",
    "**6. Start jupyter notebook**\n",
    "    \n",
    "```\n",
    "jupyter notebook Flow.ipynb\n",
    "```\n",
    "\n",
    "  If using a remote host, append: ` --no-browser --ip 0.0.0.0 --port XXXX` (where XXXX should be a number greater than 1000)\n",
    "  \n",
    "  If you experience warnings it might help to use ` --NotebookApp.iopub_msg_rate_limit=1.0e10  --NotebookApp.iopub_data_rate_limit=1.0e10`"
   ]
  },
  {
   "cell_type": "markdown",
   "id": "6b1c756a-437f-4cae-aea3-2ebeea440e37",
   "metadata": {},
   "source": [
    "The following \"IPython magic\" allows editing python files without restarting the Jupyter kernel."
   ]
  },
  {
   "cell_type": "code",
   "execution_count": 91,
   "id": "9b875711-4234-4a08-8ace-fc969763ef39",
   "metadata": {},
   "outputs": [
    {
     "name": "stdout",
     "output_type": "stream",
     "text": [
      "The autoreload extension is already loaded. To reload it, use:\n",
      "  %reload_ext autoreload\n"
     ]
    }
   ],
   "source": [
    "%load_ext autoreload\n",
    "%autoreload 2"
   ]
  },
  {
   "cell_type": "markdown",
   "id": "f568a9df",
   "metadata": {},
   "source": [
    "## 1. Python imports"
   ]
  },
  {
   "cell_type": "markdown",
   "id": "aa4ef7a0",
   "metadata": {},
   "source": [
    "Python builtin dependencies"
   ]
  },
  {
   "cell_type": "code",
   "execution_count": 92,
   "id": "e9313e69",
   "metadata": {},
   "outputs": [],
   "source": [
    "import os\n",
    "import tempfile\n",
    "\n",
    "os.environ[\"TF_CPP_MIN_LOG_LEVEL\"] = \"1\"  # Reduce verbosity\n",
    "import argparse\n",
    "from pathlib import Path"
   ]
  },
  {
   "cell_type": "markdown",
   "id": "aed9e483",
   "metadata": {},
   "source": [
    "Third party dependencies"
   ]
  },
  {
   "cell_type": "code",
   "execution_count": 93,
   "id": "8b8d8efb",
   "metadata": {},
   "outputs": [],
   "source": [
    "import numpy as np\n",
    "import tensorflow as tf\n",
    "import matplotlib.pyplot as plt"
   ]
  },
  {
   "cell_type": "markdown",
   "id": "b30dd0c5",
   "metadata": {},
   "source": [
    "Jupyter specific"
   ]
  },
  {
   "cell_type": "code",
   "execution_count": 94,
   "id": "7c356b40",
   "metadata": {},
   "outputs": [],
   "source": [
    "from IPython.display import FileLink"
   ]
  },
  {
   "cell_type": "markdown",
   "id": "c173d714",
   "metadata": {},
   "source": [
    "Helper scripts"
   ]
  },
  {
   "cell_type": "code",
   "execution_count": 95,
   "id": "b7d8c8ae",
   "metadata": {},
   "outputs": [],
   "source": [
    "import data\n",
    "import models\n",
    "from test import get_accuracy, get_confusion_matrix\n",
    "from test_tflite import tflite_test\n",
    "from estimate import load_model, estimate_model_macs, estimate_model_rom, estimate_model_ram"
   ]
  },
  {
   "cell_type": "markdown",
   "id": "6b719775-6edf-4972-800c-c7bbc979294e",
   "metadata": {},
   "source": [
    "Import student code"
   ]
  },
  {
   "cell_type": "code",
   "execution_count": 96,
   "id": "e996e0fb-95a2-4fc0-87cb-d0b4133dd5ab",
   "metadata": {},
   "outputs": [],
   "source": [
    "from student.metrics import get_student_metrics\n",
    "from student.callbacks import get_student_callbacks"
   ]
  },
  {
   "cell_type": "markdown",
   "id": "b1a864db",
   "metadata": {},
   "source": [
    "## 2. Define training parameters"
   ]
  },
  {
   "cell_type": "markdown",
   "id": "8132f6ea",
   "metadata": {},
   "source": [
    "In this section the hyperparameters for the model and training procedure are defined. Feel free to read through the code line by line as the options should be all documented well. You are NOT supposed to change any parameters except the following:\n",
    "\n",
    "- `FLAGS.model_name`: This will be used as the base filename when writing the converted model to the disk. Change this from `\"kws_model_xs\"` to `kws_model_student` when starting the Programming challenge.\n",
    "- `FLAGS.data_dir`: May be changed to a persitent directory to keep the downloaded dataset between reboots if working on a personal machine. If working on a chair computer, feel free to change this to `/usr/local/labs/ESD4ML/current/common/data/speech_commands_v0.02` to skip the download procedure.\n",
    "- `FLAGS.wanted_words`: should be changed to the set of keywords which was assigned to your group **after** answering the theoretical questions on the default pair of keywords."
   ]
  },
  {
   "cell_type": "code",
   "execution_count": 97,
   "id": "c3210afe",
   "metadata": {},
   "outputs": [],
   "source": [
    "FLAGS = argparse.Namespace()\n",
    "\n",
    "# Overwrite the model name provided by keras with a custom one\n",
    "FLAGS.model_name = \"micro_model_student\"\n",
    "\n",
    "# Location of speech training data archive on the web.\n",
    "FLAGS.data_url = \"http://download.tensorflow.org/data/speech_commands_v0.02.tar.gz\"\n",
    "\n",
    "# Where to download the speech training data to.\n",
    "try:\n",
    "    login = os.getlogin()\n",
    "except:\n",
    "    login = \"unknown\"\n",
    "FLAGS.data_dir = os.getenv(\n",
    "    \"SPEECH_COMMANDS_DIR\",\n",
    "    default=os.path.join(tempfile.gettempdir(), login, \"speech_dataset\"),\n",
    ")\n",
    "\n",
    "# Words to use (others will be added to an unknown label)\n",
    "FLAGS.wanted_words = \"yes,no\"\n",
    "\n",
    "# Total number of classifiations labels (wanted_words + silence + unknown)\n",
    "FLAGS.num_classes = len(FLAGS.wanted_words.split(\",\")) + 2\n",
    "\n",
    "# How loud the background noise should be, between 0 and 1.\n",
    "FLAGS.background_volume = 0.1\n",
    "\n",
    "# How many of the training samples have background noise mixed in.\n",
    "FLAGS.background_frequency = 0.8\n",
    "\n",
    "# How much of the training data should be silence.\n",
    "FLAGS.silence_percentage = 100.0 / FLAGS.num_classes\n",
    "\n",
    "# How much of the training data should be unknown words\n",
    "FLAGS.unknown_percentage = 100.0 / FLAGS.num_classes\n",
    "\n",
    "# Range to randomly shift the training audio by in time.\n",
    "FLAGS.time_shift_ms = 100.0\n",
    "\n",
    "# What percentage of wavs to use as a test set.\n",
    "FLAGS.testing_percentage = 10\n",
    "\n",
    "# What percentage of wavs to use as a validation set.\n",
    "FLAGS.validation_percentage = 10\n",
    "\n",
    "# Expected sample rate of the wavs\n",
    "FLAGS.sample_rate = 16000\n",
    "\n",
    "# Expected duration in milliseconds of the wavs\n",
    "FLAGS.clip_duration_ms = 1000\n",
    "\n",
    "# How long each spectrogram timeslice is\n",
    "FLAGS.window_size_ms = 30.0\n",
    "\n",
    "# How long each spectrogram timeslice is\n",
    "FLAGS.window_stride_ms = 20.0\n",
    "\n",
    "# How many bins to use for the MFCC fingerprint\n",
    "FLAGS.dct_coefficient_count = 40\n",
    "\n",
    "# How many training loops to run\n",
    "FLAGS.how_many_training_steps = \"12000,3000\"\n",
    "\n",
    "# How often to evaluate the training results.\n",
    "FLAGS.eval_step_interval = 400\n",
    "\n",
    "# How large a learning rate to use when training.\n",
    "FLAGS.learning_rate = \"0.001,0.0001\"\n",
    "\n",
    "# How many items to train with at once\n",
    "FLAGS.batch_size = 100\n",
    "\n",
    "# Where to save summary logs for TensorBoard.\n",
    "# FLAGS.summaries_dir = '/tmp/retrain_logs'\n",
    "\n",
    "# Directory to write event logs and checkpoint.\n",
    "FLAGS.train_dir = \"training\"\n",
    "\n",
    "# Directory to write converted models to.\n",
    "FLAGS.models_dir = \"models\""
   ]
  },
  {
   "cell_type": "markdown",
   "id": "7598c217",
   "metadata": {},
   "source": [
    "## 3. Create Keras Model"
   ]
  },
  {
   "cell_type": "markdown",
   "id": "04f94f40",
   "metadata": {},
   "source": [
    "Get the model settings as they are required for the preprocessing, training and quantization."
   ]
  },
  {
   "cell_type": "code",
   "execution_count": 98,
   "id": "91604a6b",
   "metadata": {},
   "outputs": [],
   "source": [
    "model_settings = models.prepare_model_settings(\n",
    "    len(data.prepare_words_list(FLAGS.wanted_words.split(\",\"))),\n",
    "    FLAGS.sample_rate,\n",
    "    FLAGS.clip_duration_ms,\n",
    "    FLAGS.window_size_ms,\n",
    "    FLAGS.window_stride_ms,\n",
    "    FLAGS.dct_coefficient_count,\n",
    ")"
   ]
  },
  {
   "cell_type": "markdown",
   "id": "e189906a",
   "metadata": {},
   "source": [
    "Define a model architecture using the Keras API. A predefined model can be found in `models.py`. The model for the final challenge has to be defined in `student/model.py`"
   ]
  },
  {
   "cell_type": "markdown",
   "id": "4bcc0f97-6976-4d93-844d-9247ce51ee8c",
   "metadata": {},
   "source": [
    "The following is just an example on how to define a minimal model architecture for the MicroTVM application:\n",
    "\n",
    "```python\n",
    "def create_micro_kws_xs_model(model_settings):\n",
    "    \"\"\"Builds a model with a single depthwise-convolution layer followed by a single fully-connected layer.\n",
    "    Args:\n",
    "        model_settings: Dict of different settings for model training.\n",
    "    Returns:\n",
    "        tf.keras Model of the 'micro_kws_xs' architecture.\n",
    "    \"\"\"\n",
    "\n",
    "    # Get relevant model setting.\n",
    "    input_frequency_size = model_settings[\"dct_coefficient_count\"]\n",
    "    input_time_size = model_settings[\"spectrogram_length\"]\n",
    "\n",
    "    inputs = tf.keras.Input(shape=(model_settings[\"fingerprint_size\"]), name=\"input\")\n",
    "\n",
    "    # Reshape the flattened input.\n",
    "    x = tf.reshape(inputs, shape=(-1, input_time_size, input_frequency_size, 1))\n",
    "\n",
    "    # First convolution.\n",
    "    x = tf.keras.layers.DepthwiseConv2D(\n",
    "        depth_multiplier=4,\n",
    "        kernel_size=(5, 4),\n",
    "        strides=(2, 2),\n",
    "        padding=\"SAME\",\n",
    "        activation=\"relu\",\n",
    "    )(x)\n",
    "\n",
    "    # Flatten for fully connected layers.\n",
    "    x = tf.keras.layers.Flatten()(x)\n",
    "\n",
    "    # Output fully connected.\n",
    "    output = tf.keras.layers.Dense(units=model_settings[\"label_count\"], activation=\"softmax\")(x)\n",
    "\n",
    "    return tf.keras.Model(inputs, output, name=FLAGS.model_name)\n",
    "```"
   ]
  },
  {
   "cell_type": "markdown",
   "id": "3278841d",
   "metadata": {},
   "source": [
    "Generate keras model. The `model.summary()` utility provides a way to inspect the layers of Keras model with its shapes and parameters."
   ]
  },
  {
   "cell_type": "code",
   "execution_count": 99,
   "id": "7ec55b9e",
   "metadata": {},
   "outputs": [
    {
     "name": "stdout",
     "output_type": "stream",
     "text": [
      "Model: \"micro_model_student\"\n",
      "_________________________________________________________________\n",
      " Layer (type)                Output Shape              Param #   \n",
      "=================================================================\n",
      " input (InputLayer)          [(None, 1960)]            0         \n",
      "                                                                 \n",
      " tf.reshape_3 (TFOpLambda)   (None, 49, 40, 1)         0         \n",
      "                                                                 \n",
      " conv2d_12 (Conv2D)          (None, 49, 40, 32)        672       \n",
      "                                                                 \n",
      " tf.quantization.fake_quant_  (None, 49, 40, 32)       0         \n",
      " with_min_max_args_24 (TFOpL                                     \n",
      " ambda)                                                          \n",
      "                                                                 \n",
      " depthwise_conv2d_6 (Depthwi  (None, 25, 20, 32)       672       \n",
      " seConv2D)                                                       \n",
      "                                                                 \n",
      " tf.quantization.fake_quant_  (None, 25, 20, 32)       0         \n",
      " with_min_max_args_25 (TFOpL                                     \n",
      " ambda)                                                          \n",
      "                                                                 \n",
      " conv2d_13 (Conv2D)          (None, 25, 20, 32)        1056      \n",
      "                                                                 \n",
      " tf.quantization.fake_quant_  (None, 25, 20, 32)       0         \n",
      " with_min_max_args_26 (TFOpL                                     \n",
      " ambda)                                                          \n",
      "                                                                 \n",
      " depthwise_conv2d_7 (Depthwi  (None, 25, 20, 128)      1280      \n",
      " seConv2D)                                                       \n",
      "                                                                 \n",
      " tf.quantization.fake_quant_  (None, 25, 20, 128)      0         \n",
      " with_min_max_args_27 (TFOpL                                     \n",
      " ambda)                                                          \n",
      "                                                                 \n",
      " conv2d_14 (Conv2D)          (None, 25, 20, 32)        4128      \n",
      "                                                                 \n",
      " tf.quantization.fake_quant_  (None, 25, 20, 32)       0         \n",
      " with_min_max_args_28 (TFOpL                                     \n",
      " ambda)                                                          \n",
      "                                                                 \n",
      " max_pooling2d_3 (MaxPooling  (None, 8, 6, 32)         0         \n",
      " 2D)                                                             \n",
      "                                                                 \n",
      " tf.quantization.fake_quant_  (None, 8, 6, 32)         0         \n",
      " with_min_max_args_29 (TFOpL                                     \n",
      " ambda)                                                          \n",
      "                                                                 \n",
      " conv2d_15 (Conv2D)          (None, 8, 6, 16)          528       \n",
      "                                                                 \n",
      " tf.quantization.fake_quant_  (None, 8, 6, 16)         0         \n",
      " with_min_max_args_30 (TFOpL                                     \n",
      " ambda)                                                          \n",
      "                                                                 \n",
      " flatten_3 (Flatten)         (None, 768)               0         \n",
      "                                                                 \n",
      " tf.quantization.fake_quant_  (None, 768)              0         \n",
      " with_min_max_args_31 (TFOpL                                     \n",
      " ambda)                                                          \n",
      "                                                                 \n",
      " dense_3 (Dense)             (None, 4)                 3076      \n",
      "                                                                 \n",
      "=================================================================\n",
      "Total params: 11,412\n",
      "Trainable params: 11,412\n",
      "Non-trainable params: 0\n",
      "_________________________________________________________________\n"
     ]
    }
   ],
   "source": [
    "model = models.get_model(model_settings,\"micro_kws_student\",  model_name=FLAGS.model_name)\n",
    "model.summary()"
   ]
  },
  {
   "cell_type": "markdown",
   "id": "6752dda8",
   "metadata": {},
   "source": [
    "## 4. Prepare dataset"
   ]
  },
  {
   "cell_type": "markdown",
   "id": "6c2b321a",
   "metadata": {},
   "source": [
    "While keyword-spotting is quite simple tasks, the preprocessing to generate input features for training is non-trivial. Hence, the implementation of the `Audioprocessor()` class is omited here. If interested, check out the [`data.py`](./data.py) script for more information.\n",
    "\n",
    "One aspect, which is very important here is the `micro=True` option as it ensures that the same preprocessing (conversion of input WAV files to an Image) is applied to the input dataset as used in the mcirocontroller target software."
   ]
  },
  {
   "cell_type": "code",
   "execution_count": 100,
   "metadata": {},
   "outputs": [
    {
     "name": "stdout",
     "output_type": "stream",
     "text": [
      "/media/almo/Windows/Users/Thien/Documents/MSNE/WS23_ESD4ML/speech_dataset\n"
     ]
    }
   ],
   "source": [
    "# Changing directory if running on T's computer \n",
    "\n",
    "if os.path.exists('/media/almo'):\n",
    "    FLAGS.data_dir = r\"/media/almo/Windows/Users/Thien/Documents/MSNE/WS23_ESD4ML/speech_dataset\"\n",
    "\n",
    "print(FLAGS.data_dir) #/tmp/almo/speech_dataset \n",
    "\n",
    "# FLAGS.how_many_training_steps = \"3000,1000\"\n"
   ]
  },
  {
   "cell_type": "code",
   "execution_count": 101,
   "id": "437c0a33",
   "metadata": {},
   "outputs": [],
   "source": [
    "audio_processor = data.AudioProcessor(\n",
    "    data_url=FLAGS.data_url,\n",
    "    data_dir=FLAGS.data_dir,\n",
    "    silence_percentage=FLAGS.silence_percentage,\n",
    "    unknown_percentage=FLAGS.unknown_percentage,\n",
    "    wanted_words=FLAGS.wanted_words.split(\",\"),\n",
    "    validation_percentage=FLAGS.validation_percentage,\n",
    "    testing_percentage=FLAGS.testing_percentage,\n",
    "    model_settings=model_settings,\n",
    "    micro=True,\n",
    ")"
   ]
  },
  {
   "cell_type": "markdown",
   "id": "7ed80065",
   "metadata": {},
   "source": [
    "Let's define a helper function to visualize some features:"
   ]
  },
  {
   "cell_type": "code",
   "execution_count": 102,
   "id": "eece066c",
   "metadata": {},
   "outputs": [],
   "source": [
    "def visualize_feature(feature):\n",
    "    # Utility to display a given feature from the dataset inside the notebook\n",
    "    feature_data, feature_label = feature\n",
    "\n",
    "    feature_data = feature_data.numpy()\n",
    "    feature_label = feature_label.numpy()\n",
    "\n",
    "    feature_label_str = ([\"silence\", \"unknown\"] + FLAGS.wanted_words.split(\",\"))[feature_label]\n",
    "\n",
    "    feature_reshaped = np.reshape(feature_data, (49, 40)).T\n",
    "\n",
    "    p = plt.imshow(feature_reshaped, cmap=\"gray\", vmin=0, vmax=26)\n",
    "    plt.title(f\"Label: {feature_label_str}\")\n",
    "    plt.xlabel(\"Time [s]\")\n",
    "    plt.ylabel(\"Frequency [ƒ]\")"
   ]
  },
  {
   "cell_type": "markdown",
   "id": "45c85ca5",
   "metadata": {},
   "source": [
    "Execute the following cell a few times to inpect the generated features for some keywords/labels."
   ]
  },
  {
   "cell_type": "code",
   "execution_count": 103,
   "id": "61d0d40c",
   "metadata": {},
   "outputs": [
    {
     "name": "stderr",
     "output_type": "stream",
     "text": [
      "2023-11-19 21:36:42.590900: W tensorflow/core/kernels/data/cache_dataset_ops.cc:856] The calling iterator did not fully read the dataset being cached. In order to avoid unexpected truncation of the dataset, the partially cached contents of the dataset  will be discarded. This can happen if you have an input pipeline similar to `dataset.cache().take(k).repeat()`. You should use `dataset.take(k).cache().repeat()` instead.\n"
     ]
    },
    {
     "data": {
      "image/png": "[encoded data removed]",
      "text/plain": [
       "<Figure size 640x480 with 1 Axes>"
      ]
     },
     "metadata": {},
     "output_type": "display_data"
    }
   ],
   "source": [
    "feature = (\n",
    "    audio_processor.get_data(audio_processor.Modes.VALIDATION)\n",
    "    .shuffle(100)\n",
    "    .take(1)\n",
    "    .get_single_element()\n",
    ")\n",
    "visualize_feature(feature)"
   ]
  },
  {
   "cell_type": "markdown",
   "id": "9fd90760",
   "metadata": {},
   "source": [
    "## 5. Run Training"
   ]
  },
  {
   "cell_type": "markdown",
   "id": "ba9c5339",
   "metadata": {},
   "source": [
    "Define training procedure using the previously defined parameters.\n",
    "\n",
    "In addition to the training hyperparamerters (training steps, learning rate,...) an optimizer (`Adam`), a loss function (`SparseCategoricalCrossentropy`) as well as a metric is selected for the training and passed to the `model.compile()` method.\n",
    "\n",
    "The actual training happens when `model.fit()` is called. The training progress should be visible on the screen. While multiple epochs (\"one pass over the entire dataset\") are required for the training, the validation accuracy is evaluated every 200 steps and the weights are written to a directory automatically.\n",
    "\n",
    "At the end of the training procedure the final test accuracy of the trained model is printed to the screen."
   ]
  },
  {
   "cell_type": "code",
   "execution_count": 104,
   "id": "0f4c2f34",
   "metadata": {},
   "outputs": [],
   "source": [
    "def train(model, audio_processor):\n",
    "    # We decay learning rate in a constant piecewise way to help learning.\n",
    "    training_steps_list = list(map(int, FLAGS.how_many_training_steps.split(\",\")))\n",
    "    learning_rates_list = list(map(float, FLAGS.learning_rate.split(\",\")))\n",
    "    lr_boundary_list = training_steps_list[:-1]  # Only need the values at which to change lr.\n",
    "    lr_schedule = tf.keras.optimizers.schedules.PiecewiseConstantDecay(\n",
    "        boundaries=lr_boundary_list, values=learning_rates_list\n",
    "    )\n",
    "\n",
    "    # Specify the optimizer configurations.\n",
    "    optimizer = tf.keras.optimizers.Adam(learning_rate=lr_schedule)\n",
    "\n",
    "    # Compile the model.\n",
    "    model.compile(\n",
    "        optimizer=optimizer,\n",
    "        loss=tf.keras.losses.SparseCategoricalCrossentropy(),\n",
    "        metrics=[\"accuracy\"],\n",
    "    )\n",
    "\n",
    "    # Prepare/split the dataset.\n",
    "    train_data = audio_processor.get_data(\n",
    "        audio_processor.Modes.TRAINING,\n",
    "        FLAGS.background_frequency,\n",
    "        FLAGS.background_volume,\n",
    "        int((FLAGS.time_shift_ms * FLAGS.sample_rate) / 1000),\n",
    "    )\n",
    "    train_data = train_data.repeat().batch(FLAGS.batch_size).prefetch(tf.data.AUTOTUNE)\n",
    "    val_data = audio_processor.get_data(audio_processor.Modes.VALIDATION)\n",
    "    val_data = val_data.batch(FLAGS.batch_size).prefetch(tf.data.AUTOTUNE)\n",
    "\n",
    "    # We train for a max number of iterations so need to calculate how many 'epochs' this will be.\n",
    "    training_steps_max = np.sum(training_steps_list)\n",
    "    training_epoch_max = int(np.ceil(training_steps_max / FLAGS.eval_step_interval))\n",
    "\n",
    "    # Callbacks.\n",
    "    train_dir = Path(FLAGS.train_dir) / FLAGS.model_name / \"best\"\n",
    "    train_dir.mkdir(parents=True, exist_ok=True)\n",
    "    model_checkpoint_callback = tf.keras.callbacks.ModelCheckpoint(\n",
    "        filepath=(train_dir / (FLAGS.model_name + \"_{val_accuracy:.3f}_ckpt\")),\n",
    "        save_weights_only=True,\n",
    "        monitor=\"val_accuracy\",\n",
    "        mode=\"max\",\n",
    "        save_best_only=True,\n",
    "    )\n",
    "\n",
    "    # Train the model.\n",
    "    model.fit(\n",
    "        x=train_data,\n",
    "        steps_per_epoch=FLAGS.eval_step_interval,\n",
    "        epochs=training_epoch_max,\n",
    "        validation_data=val_data,\n",
    "        callbacks=[model_checkpoint_callback, *get_student_callbacks()],\n",
    "    )\n",
    "\n",
    "    # Test and save the model.\n",
    "    test_data = audio_processor.get_data(audio_processor.Modes.TESTING)\n",
    "    test_data = test_data.batch(FLAGS.batch_size)\n",
    "\n",
    "    # Evaluate the model performace.\n",
    "    test_loss, test_acc = model.evaluate(x=test_data)\n",
    "    print(f\"Final test accuracy: {test_acc*100:.2f}%\")"
   ]
  },
  {
   "cell_type": "markdown",
   "id": "e48fc3e4",
   "metadata": {},
   "source": [
    "Invoke training procedure (**Warning:** This will take a very long time!)"
   ]
  },
  {
   "cell_type": "code",
   "execution_count": 105,
   "id": "ab42c6a8",
   "metadata": {},
   "outputs": [
    {
     "name": "stdout",
     "output_type": "stream",
     "text": [
      "Epoch 1/38\n",
      "400/400 [==============================] - 15s 35ms/step - loss: 0.6963 - accuracy: 0.7235 - val_loss: 0.3698 - val_accuracy: 0.8622\n",
      "Epoch 2/38\n",
      "400/400 [==============================] - 16s 40ms/step - loss: 0.3841 - accuracy: 0.8644 - val_loss: 0.2390 - val_accuracy: 0.9104\n",
      "Epoch 3/38\n",
      "400/400 [==============================] - 18s 44ms/step - loss: 0.2897 - accuracy: 0.8976 - val_loss: 0.2127 - val_accuracy: 0.9270\n",
      "Epoch 4/38\n",
      "400/400 [==============================] - 17s 44ms/step - loss: 0.2363 - accuracy: 0.9167 - val_loss: 0.1937 - val_accuracy: 0.9336\n",
      "Epoch 5/38\n",
      "400/400 [==============================] - 17s 44ms/step - loss: 0.2464 - accuracy: 0.9148 - val_loss: 0.1987 - val_accuracy: 0.9270\n",
      "Epoch 6/38\n",
      "400/400 [==============================] - 17s 43ms/step - loss: 0.2282 - accuracy: 0.9207 - val_loss: 0.1530 - val_accuracy: 0.9444\n",
      "Epoch 7/38\n",
      "400/400 [==============================] - 17s 43ms/step - loss: 0.1971 - accuracy: 0.9311 - val_loss: 0.1536 - val_accuracy: 0.9502\n",
      "Epoch 8/38\n",
      "400/400 [==============================] - 18s 46ms/step - loss: 0.1785 - accuracy: 0.9378 - val_loss: 0.1552 - val_accuracy: 0.9444\n",
      "Epoch 9/38\n",
      "400/400 [==============================] - 19s 47ms/step - loss: 0.2206 - accuracy: 0.9233 - val_loss: 0.1607 - val_accuracy: 0.9436\n",
      "Epoch 10/38\n",
      "400/400 [==============================] - 18s 44ms/step - loss: 0.1682 - accuracy: 0.9414 - val_loss: 0.1187 - val_accuracy: 0.9593\n",
      "Epoch 11/38\n",
      "400/400 [==============================] - 18s 44ms/step - loss: 0.1831 - accuracy: 0.9378 - val_loss: 0.1562 - val_accuracy: 0.9461\n",
      "Epoch 12/38\n",
      "400/400 [==============================] - 18s 44ms/step - loss: 0.1492 - accuracy: 0.9487 - val_loss: 0.1459 - val_accuracy: 0.9535\n",
      "Epoch 13/38\n",
      "400/400 [==============================] - 18s 45ms/step - loss: 0.1532 - accuracy: 0.9472 - val_loss: 0.1451 - val_accuracy: 0.9577\n",
      "Epoch 14/38\n",
      "400/400 [==============================] - 19s 47ms/step - loss: 0.1618 - accuracy: 0.9463 - val_loss: 0.1323 - val_accuracy: 0.9568\n",
      "Epoch 15/38\n",
      "400/400 [==============================] - 19s 46ms/step - loss: 0.1536 - accuracy: 0.9467 - val_loss: 0.1294 - val_accuracy: 0.9585\n",
      "Epoch 16/38\n",
      "400/400 [==============================] - 18s 46ms/step - loss: 0.1279 - accuracy: 0.9557 - val_loss: 0.1084 - val_accuracy: 0.9676\n",
      "Epoch 17/38\n",
      "400/400 [==============================] - 19s 46ms/step - loss: 0.1321 - accuracy: 0.9560 - val_loss: 0.1150 - val_accuracy: 0.9627\n",
      "Epoch 18/38\n",
      "400/400 [==============================] - 19s 47ms/step - loss: 0.1348 - accuracy: 0.9528 - val_loss: 0.1348 - val_accuracy: 0.9544\n",
      "Epoch 19/38\n",
      "400/400 [==============================] - 18s 45ms/step - loss: 0.1260 - accuracy: 0.9567 - val_loss: 0.1178 - val_accuracy: 0.9685\n",
      "Epoch 20/38\n",
      "400/400 [==============================] - 19s 46ms/step - loss: 0.1113 - accuracy: 0.9622 - val_loss: 0.2825 - val_accuracy: 0.9237\n",
      "Epoch 21/38\n",
      "400/400 [==============================] - 19s 47ms/step - loss: 0.1780 - accuracy: 0.9412 - val_loss: 0.1380 - val_accuracy: 0.9560\n",
      "Epoch 22/38\n",
      "400/400 [==============================] - 18s 46ms/step - loss: 0.1510 - accuracy: 0.9484 - val_loss: 0.1210 - val_accuracy: 0.9585\n",
      "Epoch 23/38\n",
      "400/400 [==============================] - 18s 44ms/step - loss: 0.1261 - accuracy: 0.9566 - val_loss: 0.1103 - val_accuracy: 0.9618\n",
      "Epoch 24/38\n",
      "400/400 [==============================] - 18s 44ms/step - loss: 0.1153 - accuracy: 0.9605 - val_loss: 0.1101 - val_accuracy: 0.9627\n",
      "Epoch 25/38\n",
      "400/400 [==============================] - 18s 44ms/step - loss: 0.1183 - accuracy: 0.9591 - val_loss: 0.1223 - val_accuracy: 0.9660\n",
      "Epoch 26/38\n",
      "400/400 [==============================] - 18s 44ms/step - loss: 0.1452 - accuracy: 0.9519 - val_loss: 0.1146 - val_accuracy: 0.9602\n",
      "13/13 [==============================] - 0s 17ms/step - loss: 0.1407 - accuracy: 0.9515\n",
      "Final test accuracy: 95.15%\n"
     ]
    }
   ],
   "source": [
    "train(model, audio_processor)"
   ]
  },
  {
   "cell_type": "markdown",
   "id": "63e0cb48",
   "metadata": {},
   "source": [
    "Determine latest checkpoint"
   ]
  },
  {
   "cell_type": "code",
   "execution_count": 106,
   "id": "a6db9771",
   "metadata": {},
   "outputs": [
    {
     "name": "stdout",
     "output_type": "stream",
     "text": [
      "training/micro_model_student/best/micro_model_student_0.968_ckpt\n"
     ]
    }
   ],
   "source": [
    "latest = tf.train.latest_checkpoint(Path(FLAGS.train_dir) / FLAGS.model_name / \"best\")\n",
    "print(latest)"
   ]
  },
  {
   "cell_type": "markdown",
   "id": "f5fa0ebd",
   "metadata": {},
   "source": [
    "Pick a checkpoint"
   ]
  },
  {
   "cell_type": "code",
   "execution_count": 107,
   "id": "c3d8bfaa",
   "metadata": {},
   "outputs": [],
   "source": [
    "FLAGS.checkpoint = latest  # Feel free to choose a different one!"
   ]
  },
  {
   "attachments": {},
   "cell_type": "markdown",
   "id": "1638d3ba-8a8f-4532-9ba5-9f1168b6dbdb",
   "metadata": {},
   "source": [
    "**Task:** Update [`student/callbacks.py`](./student/callbacks.py) to define an EarlyStopping (https://keras.io/api/callbacks/early_stopping/) callback with keras which stops the training procedure after 10 or more epochs of neglectible improvement of the `val_loss` quantity. Then rerun the training procedure."
   ]
  },
  {
   "cell_type": "markdown",
   "id": "33e88bbc",
   "metadata": {},
   "source": [
    "## 6. Test trained TensorFlow model"
   ]
  },
  {
   "cell_type": "markdown",
   "id": "454e1282",
   "metadata": {},
   "source": [
    "Define test procedure we can use to evaluate our models performance.\n",
    "\n",
    "The used test routines are defined in [`test.py`](./test.py)."
   ]
  },
  {
   "cell_type": "code",
   "execution_count": 108,
   "id": "98d71f36",
   "metadata": {},
   "outputs": [],
   "source": [
    "def test(model, audio_processor, model_settings):\n",
    "    \"\"\"Calculate accuracy and confusion matrices on validation and test sets.\n",
    "\n",
    "    Model is created and weights loaded from supplied command line arguments.\n",
    "    \"\"\"\n",
    "    model.load_weights(FLAGS.checkpoint).expect_partial()\n",
    "\n",
    "    # Get test data\n",
    "    data = audio_processor.get_data(audio_processor.Modes.TESTING).batch(FLAGS.batch_size)\n",
    "\n",
    "    # Invoke model\n",
    "    predictions = model.predict(data)\n",
    "\n",
    "    # Calculate indices\n",
    "    expected_indices = np.concatenate([y for x, y in data])\n",
    "    predicted_indices = tf.argmax(predictions, axis=1)\n",
    "\n",
    "    print(\"Running testing on test set...\")\n",
    "    accuracy = get_accuracy(expected_indices, predicted_indices)\n",
    "    confusion_matrix = get_confusion_matrix(expected_indices, predicted_indices, model_settings)\n",
    "\n",
    "    # Print accuracy and confusion matrix\n",
    "    print(\n",
    "        f\"test accuracy = {accuracy * 100:.2f}%\"\n",
    "        f\"(N={audio_processor.set_size(audio_processor.Modes.TESTING)})\"\n",
    "    )\n",
    "    print()\n",
    "    print(\"confusion matrix:\")\n",
    "    print(confusion_matrix.numpy())\n",
    "\n",
    "    # Print student metrics\n",
    "    print()\n",
    "    print(\"metrics:\")\n",
    "    words = [\"silence\", \"unknown\"] + FLAGS.wanted_words.split(\",\")\n",
    "    for idx, label in enumerate(words):\n",
    "        data = get_student_metrics(confusion_matrix, idx)\n",
    "\n",
    "        # Filter None values\n",
    "        data = {key: value for key, value in data.items() if value is not None}\n",
    "        if len(data) == 0:\n",
    "            continue\n",
    "        print(f\"  {label}:\")\n",
    "        for key, value in data.items():\n",
    "            if isinstance(value, float):\n",
    "                value = f\"{value:.3f}\"\n",
    "            print(f\"    {key} = {value}\")\n",
    "        print()"
   ]
  },
  {
   "cell_type": "markdown",
   "id": "2aac3a38",
   "metadata": {},
   "source": [
    "Run test procedure"
   ]
  },
  {
   "cell_type": "code",
   "execution_count": 109,
   "id": "4e8a52a2",
   "metadata": {},
   "outputs": [
    {
     "name": "stdout",
     "output_type": "stream",
     "text": [
      "13/13 [==============================] - 0s 14ms/step\n",
      "Running testing on test set...\n",
      "test accuracy = 95.47%(N=1236)\n",
      "\n",
      "confusion matrix:\n",
      "[[206   0   0   0]\n",
      " [  1 179   7  19]\n",
      " [  1   8 404   6]\n",
      " [  1   7   6 391]]\n",
      "\n",
      "metrics:\n"
     ]
    }
   ],
   "source": [
    "test(model, audio_processor, model_settings)"
   ]
  },
  {
   "cell_type": "markdown",
   "id": "63c2416a",
   "metadata": {},
   "source": [
    "Confusion matrices are also printed as they provide infomation about how the individual classes have performed."
   ]
  },
  {
   "cell_type": "markdown",
   "id": "6b4c68e5-9c78-4630-95e6-e88c6cac4a84",
   "metadata": {},
   "source": [
    "**Task:** After completing the programming tasks in `student/metrics.py` the per-class recall, precision and f1-score will be printed above as well."
   ]
  },
  {
   "cell_type": "markdown",
   "id": "d4edd49a",
   "metadata": {},
   "source": [
    "## 7. Quantization and Conversion to TFLite "
   ]
  },
  {
   "cell_type": "markdown",
   "id": "0d0a558a",
   "metadata": {},
   "source": [
    "Define conversion procedure using the `TFLiteConverter` which creates a `.tflite` file which holds the model graph and constant weights."
   ]
  },
  {
   "cell_type": "code",
   "execution_count": 110,
   "id": "8a1e04f4",
   "metadata": {},
   "outputs": [],
   "source": [
    "NUM_REP_DATA_SAMPLES = (\n",
    "    100  # Number of representative samples which will be used for the post-training quantization.\n",
    ")\n",
    "\n",
    "\n",
    "def convert(model, audio_processor, checkpoint, quantize, inference_type, tflite_path):\n",
    "    \"\"\"Load our trained floating point model and convert it.\n",
    "    TFLite conversion or post training quantization is performed and the\n",
    "    resulting model is saved as a TFLite file.\n",
    "    We use samples from the validation set to do post training quantization.\n",
    "    Args:\n",
    "        model: The keras model.\n",
    "        audio_processor: Audio processor class object.\n",
    "        checkpoint: Path to training checkpoint to load.\n",
    "        quantize: Whether to quantize the model or convert to fp32 TFLite model.\n",
    "        inference_type: Input/output type of the quantized model.\n",
    "        tflite_path: Output TFLite file save path.\n",
    "    \"\"\"\n",
    "    model.load_weights(checkpoint).expect_partial()\n",
    "\n",
    "    val_data = audio_processor.get_data(audio_processor.Modes.VALIDATION).batch(1)\n",
    "\n",
    "    def _rep_dataset():\n",
    "        \"\"\"Generator function to produce representative dataset.\"\"\"\n",
    "        i = 0\n",
    "        for mfcc, label in val_data:\n",
    "            if i > NUM_REP_DATA_SAMPLES:\n",
    "                break\n",
    "            i += 1\n",
    "            yield [mfcc]\n",
    "\n",
    "    converter = tf.lite.TFLiteConverter.from_keras_model(model)\n",
    "    converter.optimizations = [tf.lite.Optimize.DEFAULT]\n",
    "\n",
    "    if quantize:\n",
    "        # Quantize model and save to disk.\n",
    "        if inference_type == \"int8\":\n",
    "            converter.inference_input_type = tf.int8\n",
    "            converter.inference_output_type = tf.int8\n",
    "\n",
    "        # Int8 post training quantization needs representative dataset.\n",
    "        converter.representative_dataset = _rep_dataset\n",
    "        converter.target_spec.supported_ops = [tf.lite.OpsSet.TFLITE_BUILTINS_INT8]\n",
    "\n",
    "    tflite_model = converter.convert()\n",
    "    with open(tflite_path, \"wb\") as f:\n",
    "        f.write(tflite_model)\n",
    "    print(\"{} model saved to {}.\".format(\"Quantized\" if quantize else \"Converted\", tflite_path))"
   ]
  },
  {
   "cell_type": "markdown",
   "id": "b5f18f12",
   "metadata": {},
   "source": [
    "Invoke the previously defined conversion routine"
   ]
  },
  {
   "cell_type": "code",
   "execution_count": 111,
   "id": "674c5c4b",
   "metadata": {},
   "outputs": [
    {
     "name": "stderr",
     "output_type": "stream",
     "text": [
      "WARNING:absl:Found untraced functions such as _jit_compiled_convolution_op, _jit_compiled_convolution_op, _jit_compiled_convolution_op, _jit_compiled_convolution_op, _jit_compiled_convolution_op while saving (showing 5 of 7). These functions will not be directly callable after loading.\n"
     ]
    },
    {
     "name": "stdout",
     "output_type": "stream",
     "text": [
      "INFO:tensorflow:Assets written to: /tmp/tmp6zl1m_cu/assets\n"
     ]
    },
    {
     "name": "stderr",
     "output_type": "stream",
     "text": [
      "INFO:tensorflow:Assets written to: /tmp/tmp6zl1m_cu/assets\n",
      "/home/almo/Programs/anaconda3/envs/esd/lib/python3.8/site-packages/tensorflow/lite/python/convert.py:765: UserWarning: Statistics for quantized inputs were expected, but not specified; continuing anyway.\n",
      "  warnings.warn(\"Statistics for quantized inputs were expected, but not \"\n",
      "2023-11-19 21:44:29.178358: W tensorflow/compiler/mlir/lite/python/tf_tfl_flatbuffer_helpers.cc:362] Ignored output_format.\n",
      "2023-11-19 21:44:29.178379: W tensorflow/compiler/mlir/lite/python/tf_tfl_flatbuffer_helpers.cc:365] Ignored drop_control_dependency.\n"
     ]
    },
    {
     "name": "stdout",
     "output_type": "stream",
     "text": [
      "Converted model saved to models/micro_model_student_yesno.tflite.\n"
     ]
    },
    {
     "name": "stderr",
     "output_type": "stream",
     "text": [
      "WARNING:absl:Found untraced functions such as _jit_compiled_convolution_op, _jit_compiled_convolution_op, _jit_compiled_convolution_op, _jit_compiled_convolution_op, _jit_compiled_convolution_op while saving (showing 5 of 7). These functions will not be directly callable after loading.\n"
     ]
    },
    {
     "name": "stdout",
     "output_type": "stream",
     "text": [
      "INFO:tensorflow:Assets written to: /tmp/tmp73hqcor3/assets\n"
     ]
    },
    {
     "name": "stderr",
     "output_type": "stream",
     "text": [
      "INFO:tensorflow:Assets written to: /tmp/tmp73hqcor3/assets\n",
      "/home/almo/Programs/anaconda3/envs/esd/lib/python3.8/site-packages/tensorflow/lite/python/convert.py:765: UserWarning: Statistics for quantized inputs were expected, but not specified; continuing anyway.\n",
      "  warnings.warn(\"Statistics for quantized inputs were expected, but not \"\n",
      "2023-11-19 21:44:30.040503: W tensorflow/compiler/mlir/lite/python/tf_tfl_flatbuffer_helpers.cc:362] Ignored output_format.\n",
      "2023-11-19 21:44:30.040528: W tensorflow/compiler/mlir/lite/python/tf_tfl_flatbuffer_helpers.cc:365] Ignored drop_control_dependency.\n"
     ]
    },
    {
     "name": "stdout",
     "output_type": "stream",
     "text": [
      "Quantized model saved to models/micro_model_student_yesno_quantized.tflite.\n"
     ]
    },
    {
     "name": "stderr",
     "output_type": "stream",
     "text": [
      "fully_quantize: 0, inference_type: 6, input_inference_type: INT8, output_inference_type: INT8\n"
     ]
    }
   ],
   "source": [
    "Path(FLAGS.models_dir).mkdir(exist_ok=True)\n",
    "keywords_str = FLAGS.wanted_words.replace(\",\", \"\")\n",
    "tflite_path_quantized = (\n",
    "    Path(FLAGS.models_dir) / f\"{FLAGS.model_name}_{keywords_str}_quantized.tflite\"\n",
    ")\n",
    "tflite_path = Path(FLAGS.models_dir) / f\"{FLAGS.model_name}_{keywords_str}.tflite\"\n",
    "\n",
    "# Load floating point model from checkpoint and convert it.\n",
    "convert(model, audio_processor, FLAGS.checkpoint, False, \"fp32\", tflite_path)\n",
    "\n",
    "# Quantize model from checkpoint and convert it.\n",
    "convert(model, audio_processor, FLAGS.checkpoint, True, \"int8\", tflite_path_quantized)"
   ]
  },
  {
   "cell_type": "markdown",
   "id": "f553a6c0",
   "metadata": {},
   "source": [
    "## 8. Test Converted TFLite Model"
   ]
  },
  {
   "cell_type": "markdown",
   "id": "f26094f4",
   "metadata": {},
   "source": [
    "Test the newly converted model on the test set.\n",
    "\n",
    "The `tflite_test` function is defined in [`test_tflite.py`](./test_tflite.py)."
   ]
  },
  {
   "cell_type": "markdown",
   "id": "966ea902",
   "metadata": {},
   "source": [
    "**Floating Point**"
   ]
  },
  {
   "cell_type": "code",
   "execution_count": 112,
   "id": "60725811",
   "metadata": {},
   "outputs": [
    {
     "name": "stdout",
     "output_type": "stream",
     "text": [
      "Running testing on test set...\n",
      "test accuracy = 95.31%(N=1236)\n",
      "\n",
      "confusion matrix:\n",
      "[[206   0   0   0]\n",
      " [  1 178   7  20]\n",
      " [  1   9 403   6]\n",
      " [  1   7   6 391]]\n"
     ]
    }
   ],
   "source": [
    "_ = tflite_test(model_settings, audio_processor, str(tflite_path), mode=\"test\")"
   ]
  },
  {
   "cell_type": "markdown",
   "id": "5f9106b4",
   "metadata": {},
   "source": [
    "**Quantized**"
   ]
  },
  {
   "cell_type": "code",
   "execution_count": 113,
   "id": "9bb58095",
   "metadata": {},
   "outputs": [
    {
     "name": "stdout",
     "output_type": "stream",
     "text": [
      "Running testing on test set...\n",
      "test accuracy = 95.63%(N=1236)\n",
      "\n",
      "confusion matrix:\n",
      "[[206   0   0   0]\n",
      " [  1 180   6  19]\n",
      " [  1   9 404   5]\n",
      " [  1   7   5 392]]\n"
     ]
    }
   ],
   "source": [
    "_ = tflite_test(model_settings, audio_processor, str(tflite_path_quantized), mode=\"test\")"
   ]
  },
  {
   "cell_type": "markdown",
   "id": "29377504",
   "metadata": {},
   "source": [
    "Interestingly the accuracy of the quantized model can be even better than the floating point one. This behavior is a consequence of the quantization procedure the TFLite which requires a `representative_dataset` to partially re-train some weights during the quantization."
   ]
  },
  {
   "cell_type": "markdown",
   "id": "870b568b",
   "metadata": {},
   "source": [
    "## 9. Visualize TFLite Model"
   ]
  },
  {
   "cell_type": "markdown",
   "id": "f9117c52",
   "metadata": {},
   "source": [
    "**Figure 1:** Example TFLite KWS Model\n",
    "<img src=\"resources/micro_kws_xs_yesno_quantized.png\" alt=\"Netron graph\" width=\"150\"/>"
   ]
  },
  {
   "cell_type": "markdown",
   "id": "f3faa45e",
   "metadata": {},
   "source": [
    "Use the following links to download the generated `.tflite` files"
   ]
  },
  {
   "cell_type": "markdown",
   "id": "bfb1ef17",
   "metadata": {},
   "source": [
    "**Floating Point**"
   ]
  },
  {
   "cell_type": "code",
   "execution_count": 114,
   "id": "798f3616",
   "metadata": {},
   "outputs": [
    {
     "data": {
      "text/html": [
       "<a href='models/micro_model_student_yesno.tflite' target='_blank'>models/micro_model_student_yesno.tflite</a><br>"
      ],
      "text/plain": [
       "/media/almo/Windows/Users/Thien/Documents/MSNE/WS23_ESD4ML/micro-kws/1_train/models/micro_model_student_yesno.tflite"
      ]
     },
     "execution_count": 114,
     "metadata": {},
     "output_type": "execute_result"
    }
   ],
   "source": [
    "FileLink(tflite_path)"
   ]
  },
  {
   "cell_type": "markdown",
   "id": "f8c9a8be",
   "metadata": {},
   "source": [
    "**Quantized**"
   ]
  },
  {
   "cell_type": "code",
   "execution_count": 115,
   "id": "5a700cbb",
   "metadata": {},
   "outputs": [
    {
     "data": {
      "text/html": [
       "<a href='models/micro_model_student_yesno_quantized.tflite' target='_blank'>models/micro_model_student_yesno_quantized.tflite</a><br>"
      ],
      "text/plain": [
       "/media/almo/Windows/Users/Thien/Documents/MSNE/WS23_ESD4ML/micro-kws/1_train/models/micro_model_student_yesno_quantized.tflite"
      ]
     },
     "execution_count": 115,
     "metadata": {},
     "output_type": "execute_result"
    }
   ],
   "source": [
    "FileLink(tflite_path_quantized)"
   ]
  },
  {
   "cell_type": "markdown",
   "id": "ac432529",
   "metadata": {},
   "source": [
    "Use the web application https://netron.app/ to generate a graph representation of the converted model."
   ]
  },
  {
   "cell_type": "markdown",
   "id": "56a61ea1",
   "metadata": {},
   "source": [
    "## 10. Performance and Memory Estimations"
   ]
  },
  {
   "cell_type": "markdown",
   "id": "e4dad9be",
   "metadata": {},
   "source": [
    "In this section you will learn how to estimate the complexity of a given model architecture to evaluate if it is suitable to be deployed on a very constrained embedded device. We will also make use of some simplifications to make our life easier."
   ]
  },
  {
   "cell_type": "code",
   "execution_count": 116,
   "id": "5d71f8bc-4e7f-4567-b30b-edec0183b0b3",
   "metadata": {},
   "outputs": [],
   "source": [
    "m = load_model(tflite_path_quantized)"
   ]
  },
  {
   "cell_type": "markdown",
   "id": "c8e0977c",
   "metadata": {},
   "source": [
    "### 10.1 ROM Usage"
   ]
  },
  {
   "cell_type": "markdown",
   "id": "09e0aaf9",
   "metadata": {},
   "source": [
    "Estimating the ROM usage of model graph is non-trivial if considering all types of data which contributes to the ROM footprint e.g.\n",
    "\n",
    "- Code size of the implementation of neural network kernels\n",
    "- ROM overhead of the used inference engine/runtime\n",
    "- The constant weights used by the kernels/operators\n",
    "- Driver code for interfacing with peripherals such as sensors or a serial communication port\n",
    "- If not running bare-metal: Additional ROM usage depending on the used operating system or RTOS\n",
    "\n",
    "In addition the final ROM size depends on further properties such as the used compiler flags (optimization level) and certain memory alignment requirements."
   ]
  },
  {
   "cell_type": "markdown",
   "id": "1baccdb2",
   "metadata": {},
   "source": [
    "Lets consider the previously trained `micro_kws_xs_yesno_quantized.tflite` model: It's file size is $10704$ bytes. However the TFLite Flatbuffer format also stores a compat representation of the models tensors (name, shape, type,...) and operators (inputs, outputs, parameters) and some metadata alongside with the model weights which contribute to the biggest part of the file."
   ]
  },
  {
   "cell_type": "markdown",
   "id": "d08f6381",
   "metadata": {},
   "source": [
    "In the following we will only consider the actual weights used by the model, hence we can ignore any implementation specific overheads.\n",
    "\n",
    "The used tensor datatypes (specifically `float32`, `int8` or `int32`) per operator have to be investigated to calculate the total amount of RAM required by the model weights. The https://netron.app/ can be used for this task."
   ]
  },
  {
   "cell_type": "markdown",
   "id": "a82c6dca",
   "metadata": {},
   "source": [
    "**Task:** Derive a formula to estimate the memory requirement to store all constant weights of the quantized model in ROM considering the used data types."
   ]
  },
  {
   "cell_type": "markdown",
   "id": "0e50185e-54c1-400d-9910-8fa66285e6dc",
   "metadata": {},
   "source": [
    "**Task:** Update the `estimate_rom` utility in [`student/estimate.py`](./student/estimate.py) to use your derived formula."
   ]
  },
  {
   "cell_type": "markdown",
   "id": "08e48311-2327-4b13-bfcf-701af821c8c4",
   "metadata": {},
   "source": [
    "Execute the following cell to test run your implementation:"
   ]
  },
  {
   "cell_type": "code",
   "execution_count": 117,
   "id": "a38b7ec2-67af-46e5-99f0-75452c30f64d",
   "metadata": {},
   "outputs": [
    {
     "name": "stdout",
     "output_type": "stream",
     "text": [
      "Estimated ROM Usage: 12.264 KiB\n"
     ]
    }
   ],
   "source": [
    "estimated_rom = estimate_model_rom(m)\n",
    "print(f\"Estimated ROM Usage: {estimated_rom/1e3:.3f} KiB\")"
   ]
  },
  {
   "cell_type": "markdown",
   "id": "be6456a0",
   "metadata": {},
   "source": [
    "### 10.2 RAM Usage"
   ]
  },
  {
   "cell_type": "markdown",
   "id": "b3a46407",
   "metadata": {},
   "source": [
    "Investigating the RAM usage of a given model involves similar challenges as the ROM-estimations.\n",
    "\n",
    "RAM requirements can vary a lot with the chosen model architecture and deployment flow. The largest contribution to the RAM footprint are often intermediate tensor buffers (activations) but also temporary scratchpad memory required by certain kernel implementations.\n",
    "\n",
    "Optionally memory planning can be used to reduce the RAM usage by analysing the lifetime of certain input and output buffers. This process can happen during runtime (online) or statically (offline) depending on deployment approach.\n",
    "\n",
    "Again additional application-specifc overheads might also be non-negligible."
   ]
  },
  {
   "cell_type": "markdown",
   "id": "c16f7b2c",
   "metadata": {},
   "source": [
    "**Task:** Derive formulars for estimating the dynamic memory requirement of the quantized model based on the TFLite graph only considering intermediate tensor buffers stored in RAM for optimal memory-planning.\n",
    "\n",
    "*Assumptions:*\n",
    "- Neither branches nor nodes with multiple inputs/outputs extist in the trained model.\n",
    "- Assume that the graph is processed in a linear way so that at most 2 buffers will be used at the same time."
   ]
  },
  {
   "cell_type": "markdown",
   "id": "16fb4d18-4d99-4b68-bd80-704b262787b3",
   "metadata": {},
   "source": [
    "**Task:** Update the `estimate_ram` utility in [`student/estimate.py`](./student/estimate.pyestimate_rom) to use your derived formulas."
   ]
  },
  {
   "cell_type": "markdown",
   "id": "e4627fb5-381a-469a-a6a0-d12e8cea6e86",
   "metadata": {},
   "source": [
    "Execute the following cell to test run your implementation:"
   ]
  },
  {
   "cell_type": "code",
   "execution_count": 118,
   "id": "431b7860-0d60-48f3-8f49-31d2c9eee65d",
   "metadata": {},
   "outputs": [
    {
     "name": "stdout",
     "output_type": "stream",
     "text": [
      "Estimated RAM Usage: 80.000 KiB\n"
     ]
    }
   ],
   "source": [
    "estimated_ram = estimate_model_ram(m)\n",
    "print(f\"Estimated RAM Usage: {estimated_ram/1e3:.3f} KiB\")"
   ]
  },
  {
   "cell_type": "markdown",
   "id": "cbd12112",
   "metadata": {},
   "source": [
    "### 10.3 Number of MAC Operations"
   ]
  },
  {
   "cell_type": "markdown",
   "id": "c8362b66",
   "metadata": {},
   "source": [
    "In this section the compute demand of a given TFLite model should be estimated.\n",
    "\n",
    "As a first simplification we will only consider the operation which will have the biggest impact on the actual inference time: Multiply-Add (MAC)\n",
    "\n",
    "These operations can be found in Dense (FullyConnected), and convolutional layers. Thus other operations (here: Reshape, Flatten as well as activation functions) can be neglected for the following task.\n",
    "\n",
    "First, a formular to describe the number of MAC operations of the three major types of with repect to the given tensor dimensions and parameters.\n",
    "\n",
    "**Example (Dense/FullyConnected):**\n",
    "\n",
    "  Assume: $h_{out}=h_{in}$, $w_{out}=w_{filter}$\n",
    "\n",
    "  $$num_{mac} = h_{out} \\cdot w_{out} \\cdot h_{filter}$$\n",
    "  \n",
    "  For the example keras model: $1 \\cdot 4 \\cdot 2000 \\approx 8k \\mathrm{MACs}$"
   ]
  },
  {
   "cell_type": "markdown",
   "id": "4fdbe0b0",
   "metadata": {},
   "source": [
    "**Task:** Estimate the number of Multiply-Add operations used in the quantized model (see Figure 1) by deriving a formula for `num_mac` in a (depthwise) convolutional layer with respect to $$h_{kernel}, w_{kernel}, c_{in}, c_{out}, h_{out}, w_{out}$$ and (if applicable) $$depth\\_multiplier,h_{stride}, w_{stride}$$."
   ]
  },
  {
   "cell_type": "markdown",
   "id": "54110cd3-7ee6-4259-8647-a6d2b0febf81",
   "metadata": {},
   "source": [
    "**Task:** Update the `estimate_fully_connected`, `estimate_conv2d_macs` and `estimate_depthwise_conv2d_macs` in [`student/estimate.py`](./student/estimate.py) to use your derived formulas."
   ]
  },
  {
   "cell_type": "markdown",
   "id": "5362bece-e991-4e96-a9ee-9275f01091a6",
   "metadata": {},
   "source": [
    "Execute the following cell to test run your implementation:"
   ]
  },
  {
   "cell_type": "code",
   "execution_count": 119,
   "id": "d44a5976-f5c7-4a7e-b5ef-231697bcb9c1",
   "metadata": {},
   "outputs": [
    {
     "name": "stdout",
     "output_type": "stream",
     "text": [
      "Estimated MACs: 4738048\n"
     ]
    }
   ],
   "source": [
    "estimated_macs = estimate_model_macs(m)\n",
    "print(f\"Estimated MACs: {estimated_macs}\")"
   ]
  },
  {
   "cell_type": "markdown",
   "id": "79185f20",
   "metadata": {},
   "source": [
    "## 11. Final challenge"
   ]
  },
  {
   "cell_type": "markdown",
   "id": "f93479ba",
   "metadata": {},
   "source": [
    "**Task:** To get bonus credits in the lab you have to design a model architecture for the keyword-spotting task which satisfies each of the following constraints:\n",
    "\n",
    "See `Lab 1 Manual`!"
   ]
  },
  {
   "cell_type": "markdown",
   "id": "0f1cbedf-bd67-4f59-8d55-19ffcd2588e4",
   "metadata": {},
   "source": [
    "## 12. Lab 1 Submission"
   ]
  },
  {
   "cell_type": "markdown",
   "id": "443bb95b-0111-441b-bec8-0323caf86125",
   "metadata": {},
   "source": [
    "The following cell can be executed to run some basic tests on your code. The converage of these unit tests is far away from complete and 100% successful tests to not imply a correct solution."
   ]
  },
  {
   "cell_type": "code",
   "execution_count": 123,
   "id": "18512853-75f2-44a3-9a5d-53197051e436",
   "metadata": {},
   "outputs": [
    {
     "name": "stdout",
     "output_type": "stream",
     "text": [
      "\u001b[1m============================= test session starts ==============================\u001b[0m\n",
      "platform linux -- Python 3.8.18, pytest-7.4.3, pluggy-1.3.0\n",
      "rootdir: /media/almo/Windows/Users/Thien/Documents/MSNE/WS23_ESD4ML/micro-kws/1_train\n",
      "configfile: pytest.ini\n",
      "plugins: anyio-4.0.0\n",
      "collected 7 items                                                              \u001b[0m\u001b[1m\n",
      "\n",
      "tests/test_callbacks.py \u001b[32m.\u001b[0m\u001b[32m                                                [ 14%]\u001b[0m\n",
      "tests/test_estimate.py \u001b[32m.\u001b[0m\u001b[32m.\u001b[0m\u001b[32m.\u001b[0m\u001b[32m                                               [ 57%]\u001b[0m\n",
      "tests/test_metrics.py \u001b[31mF\u001b[0m\u001b[31mF\u001b[0m\u001b[31mF\u001b[0m\u001b[31m                                                [100%]\u001b[0m\n",
      "\n",
      "=================================== FAILURES ===================================\n",
      "\u001b[31m\u001b[1m____________________________ test_metrics_precision ____________________________\u001b[0m\n",
      "\n",
      "    \u001b[94mdef\u001b[39;49;00m \u001b[92mtest_metrics_precision\u001b[39;49;00m():\u001b[90m\u001b[39;49;00m\n",
      "        \u001b[90m# matrix 1\u001b[39;49;00m\u001b[90m\u001b[39;49;00m\n",
      ">       np.testing.assert_almost_equal(precision(MATRIX_1, \u001b[94m0\u001b[39;49;00m), \u001b[94m0.5\u001b[39;49;00m)\u001b[90m\u001b[39;49;00m\n",
      "\u001b[1m\u001b[31mE       TypeError: unsupported operand type(s) for -: 'float' and 'NoneType'\u001b[0m\n",
      "\n",
      "\u001b[1m\u001b[31mtests/test_metrics.py\u001b[0m:21: TypeError\n",
      "\u001b[31m\u001b[1m_____________________________ test_metrics_recall ______________________________\u001b[0m\n",
      "\n",
      "    \u001b[94mdef\u001b[39;49;00m \u001b[92mtest_metrics_recall\u001b[39;49;00m():\u001b[90m\u001b[39;49;00m\n",
      "        \u001b[90m# matrix 1\u001b[39;49;00m\u001b[90m\u001b[39;49;00m\n",
      ">       np.testing.assert_almost_equal(recall(MATRIX_1, \u001b[94m0\u001b[39;49;00m), \u001b[94m0.5\u001b[39;49;00m)\u001b[90m\u001b[39;49;00m\n",
      "\u001b[1m\u001b[31mE       TypeError: unsupported operand type(s) for -: 'float' and 'NoneType'\u001b[0m\n",
      "\n",
      "\u001b[1m\u001b[31mtests/test_metrics.py\u001b[0m:33: TypeError\n",
      "\u001b[31m\u001b[1m____________________________ test_metrics_f1_score _____________________________\u001b[0m\n",
      "\n",
      "    \u001b[94mdef\u001b[39;49;00m \u001b[92mtest_metrics_f1_score\u001b[39;49;00m():\u001b[90m\u001b[39;49;00m\n",
      "        \u001b[90m# matrix 1\u001b[39;49;00m\u001b[90m\u001b[39;49;00m\n",
      ">       np.testing.assert_almost_equal(f1_score(MATRIX_1, \u001b[94m0\u001b[39;49;00m), \u001b[94m0.5\u001b[39;49;00m)\u001b[90m\u001b[39;49;00m\n",
      "\u001b[1m\u001b[31mE       TypeError: unsupported operand type(s) for -: 'float' and 'NoneType'\u001b[0m\n",
      "\n",
      "\u001b[1m\u001b[31mtests/test_metrics.py\u001b[0m:45: TypeError\n",
      "\u001b[36m\u001b[1m=========================== short test summary info ============================\u001b[0m\n",
      "\u001b[31mFAILED\u001b[0m tests/test_metrics.py::\u001b[1mtest_metrics_precision\u001b[0m - TypeError: unsupported operand type(s) for -: 'float' and 'NoneType'\n",
      "\u001b[31mFAILED\u001b[0m tests/test_metrics.py::\u001b[1mtest_metrics_recall\u001b[0m - TypeError: unsupported operand type(s) for -: 'float' and 'NoneType'\n",
      "\u001b[31mFAILED\u001b[0m tests/test_metrics.py::\u001b[1mtest_metrics_f1_score\u001b[0m - TypeError: unsupported operand type(s) for -: 'float' and 'NoneType'\n",
      "\u001b[31m========================= \u001b[31m\u001b[1m3 failed\u001b[0m, \u001b[32m4 passed\u001b[0m\u001b[31m in 1.10s\u001b[0m\u001b[31m ==========================\u001b[0m\n"
     ]
    }
   ],
   "source": [
    "!python -m pytest tests/"
   ]
  },
  {
   "cell_type": "markdown",
   "id": "72400c88-5031-4451-b97a-50ed129a87a0",
   "metadata": {},
   "source": [
    "After completing the lab execises, the following cell can be executed to generate the ZIP file containing the expected files. This script also runs some basic checks to make sure that nothing is missing in your submission. The `submission.zip` file has to be uploaded to Moodle before the deadline."
   ]
  },
  {
   "cell_type": "code",
   "execution_count": 121,
   "id": "55ee8cf5-95ec-40d7-8ffe-b406fb22ae11",
   "metadata": {},
   "outputs": [
    {
     "name": "stdout",
     "output_type": "stream",
     "text": [
      "Traceback (most recent call last):\n",
      "  File \"submit.py\", line 108, in <module>\n",
      "    main()\n",
      "  File \"submit.py\", line 96, in main\n",
      "    files = gather_files(directory)\n",
      "  File \"submit.py\", line 64, in gather_files\n",
      "    assert model_path.is_file(), f\"{model_path} file does not exist\"\n",
      "AssertionError: models/micro_kws_student_onleftrightyesoffdownnoup.tflite file does not exist\n"
     ]
    }
   ],
   "source": [
    "!python submit.py"
   ]
  },
  {
   "cell_type": "markdown",
   "id": "46c163b7-f68b-414a-8a26-33ca25045fe2",
   "metadata": {},
   "source": [
    "This is the end of the Notebook."
   ]
  }
 ],
 "metadata": {
  "kernelspec": {
   "display_name": "Python 3 (ipykernel)",
   "language": "python",
   "name": "python3"
  },
  "language_info": {
   "codemirror_mode": {
    "name": "ipython",
    "version": 3
   },
   "file_extension": ".py",
   "mimetype": "text/x-python",
   "name": "python",
   "nbconvert_exporter": "python",
   "pygments_lexer": "ipython3",
   "version": "3.8.18"
  }
 },
 "nbformat": 4,
 "nbformat_minor": 5
}
